{
 "cells": [
  {
   "cell_type": "code",
   "execution_count": 1,
   "id": "a8b8c6d1-f226-440c-9e82-1576dad1f69a",
   "metadata": {},
   "outputs": [
    {
     "name": "stdout",
     "output_type": "stream",
     "text": [
      "139\n",
      "1620\n"
     ]
    }
   ],
   "source": [
    "def max_skill(difficulty_levels, N, K):\n",
    "    mod = 1000000007\n",
    "    total_skill = 0\n",
    "\n",
    "    for i in range(0, N, K):\n",
    "        day_skill = 1\n",
    "        for j in range(K):\n",
    "            if i + j < N:\n",
    "                day_skill *= difficulty_levels[i + j] % mod\n",
    "        total_skill = (total_skill + day_skill) % mod\n",
    "\n",
    "    return total_skill\n",
    "\n",
    "# Example usage:\n",
    "input1 = [10, 12, 2, 5, 1, 9]\n",
    "input2 = 6\n",
    "input3 = 2\n",
    "print(max_skill(input1, input2, input3))  \n",
    "\n",
    "input1 = [2, 10, 50, 32]\n",
    "input2 = 4\n",
    "input3 = 2\n",
    "print(max_skill(input1, input2, input3))"
   ]
  },
  {
   "cell_type": "code",
   "execution_count": 2,
   "id": "ebd34b7c-0f4d-41c8-89a8-933e61394231",
   "metadata": {},
   "outputs": [
    {
     "name": "stdout",
     "output_type": "stream",
     "text": [
      "139\n",
      "1620\n"
     ]
    }
   ],
   "source": [
    "def max_skill(difficulty_levels, N, K):\n",
    "    mod = 1000000007\n",
    "    total_skill = 0\n",
    "\n",
    "    for i in range(0, N, K):\n",
    "        day_skill = 1\n",
    "        for j in range(K):\n",
    "            if i + j < N:\n",
    "                day_skill *= difficulty_levels[i + j] % mod\n",
    "        total_skill = (total_skill + day_skill) % mod\n",
    "\n",
    "    return total_skill\n",
    "\n",
    "# Example usage:\n",
    "input1 = [10, 12, 2, 5, 1, 9]\n",
    "input2 = 6\n",
    "input3 = 2\n",
    "print(max_skill(input1, input2, input3))  # Output: 167\n",
    "\n",
    "input1 = [2, 10, 50, 32]\n",
    "input2 = 4\n",
    "input3 = 2\n",
    "print(max_skill(input1, input2, input3))  # Output: 1620"
   ]
  },
  {
   "cell_type": "code",
   "execution_count": 3,
   "id": "79348b1d-bafc-407e-b9a8-53ece2281cc2",
   "metadata": {},
   "outputs": [
    {
     "name": "stdout",
     "output_type": "stream",
     "text": [
      "167\n",
      "1620\n"
     ]
    }
   ],
   "source": [
    "def max_skill(input1, input2, input3):\n",
    "    mod = 1000000007\n",
    "    input1.sort(reverse=True)  \n",
    "    total_skill = 0\n",
    "\n",
    "    for i in range(0, input2, input3):\n",
    "        product = 1\n",
    "        for j in range(input3):\n",
    "            if i + j < input2:\n",
    "                product = (product * input1[i + j]) % mod\n",
    "            else:\n",
    "                break\n",
    "        total_skill = (total_skill + product) % mod\n",
    "\n",
    "    return total_skill\n",
    "\n",
    "# Example usage:\n",
    "input1 = [10, 12, 2, 5, 1, 9]\n",
    "input2 = 6\n",
    "input3 = 2\n",
    "print(max_skill(input1, input2, input3))  \n",
    "\n",
    "input1 = [2, 10, 50, 32]\n",
    "input2 = 4\n",
    "input3 = 2\n",
    "print(max_skill(input1, input2, input3)) "
   ]
  },
  {
   "cell_type": "code",
   "execution_count": 7,
   "id": "8dd97312-74f4-4e0e-b51d-6d340a120b83",
   "metadata": {},
   "outputs": [
    {
     "name": "stdout",
     "output_type": "stream",
     "text": [
      "[34, 64, 25, 12, 22, 11, 90]\n",
      "[34, 25, 64, 12, 22, 11, 90]\n",
      "[34, 25, 12, 64, 22, 11, 90]\n",
      "[34, 25, 12, 22, 64, 11, 90]\n",
      "[34, 25, 12, 22, 11, 64, 90]\n",
      "[34, 25, 12, 22, 11, 64, 90]\n",
      "[25, 34, 12, 22, 11, 64, 90]\n",
      "[25, 12, 34, 22, 11, 64, 90]\n",
      "[25, 12, 22, 34, 11, 64, 90]\n",
      "[25, 12, 22, 11, 34, 64, 90]\n",
      "[25, 12, 22, 11, 34, 64, 90]\n",
      "[12, 25, 22, 11, 34, 64, 90]\n",
      "[12, 22, 25, 11, 34, 64, 90]\n",
      "[12, 22, 11, 25, 34, 64, 90]\n",
      "[12, 22, 11, 25, 34, 64, 90]\n",
      "[12, 22, 11, 25, 34, 64, 90]\n",
      "[12, 11, 22, 25, 34, 64, 90]\n",
      "[12, 11, 22, 25, 34, 64, 90]\n",
      "[11, 12, 22, 25, 34, 64, 90]\n",
      "[11, 12, 22, 25, 34, 64, 90]\n",
      "[11, 12, 22, 25, 34, 64, 90]\n",
      "[11, 12, 22, 25, 34, 64, 90]\n"
     ]
    }
   ],
   "source": [
    "def array_sort(x):\n",
    "    for i in range(len(x)+1):\n",
    "        for j in range(0,(len(x))-i-1):\n",
    "            if x[j]>x[j+1]:\n",
    "                x[j],x[j+1]=x[j+1],x[j]\n",
    "            print(x)\n",
    "a=[64, 34, 25, 12, 22, 11, 90]\n",
    "array_sort(a)\n",
    "print(a)"
   ]
  },
  {
   "cell_type": "code",
   "execution_count": 4,
   "id": "a6b94213-ff37-446c-9a60-51b670b2d9ed",
   "metadata": {},
   "outputs": [
    {
     "name": "stdout",
     "output_type": "stream",
     "text": [
      "sorted list in acsendding order by bobbule sort is [1, 2, 7, 12, 35, 46, 74]\n"
     ]
    }
   ],
   "source": [
    "lst=[12,2,35,46,74,7,1]\n",
    "for i in range(len(lst)+1):\n",
    "    for j in range(0,len(lst)-i-1):\n",
    "        if lst[j]>lst[j+1]:\n",
    "            lst[j],lst[j+1]=lst[j+1],lst[j]\n",
    "print(\"sorted list in acsendding order by bobbule sort is\",lst)"
   ]
  },
  {
   "cell_type": "code",
   "execution_count": 1,
   "id": "8b3e788a-5bed-4f81-8666-323d4a5662ec",
   "metadata": {},
   "outputs": [
    {
     "name": "stdout",
     "output_type": "stream",
     "text": [
      "1234\n"
     ]
    }
   ],
   "source": [
    "items = [1, 2, 3, 4]\n",
    "print(\"\".join(str(val) for val in items))"
   ]
  },
  {
   "cell_type": "code",
   "execution_count": 3,
   "id": "9e92b64c-edcc-4b6e-bb72-9353e1aaf924",
   "metadata": {},
   "outputs": [
    {
     "name": "stdout",
     "output_type": "stream",
     "text": [
      "1234\n"
     ]
    }
   ],
   "source": [
    "items = [1, 2, 3, 4]\n",
    "r=\"\"\n",
    "for val in items:\n",
    "    r+=str(val)\n",
    "print(r)"
   ]
  },
  {
   "cell_type": "code",
   "execution_count": 1,
   "id": "6621d114-6c0c-4084-b92a-d3cb68793c88",
   "metadata": {},
   "outputs": [
    {
     "name": "stdout",
     "output_type": "stream",
     "text": [
      "[11, 12, 22, 25, 34, 64, 90]\n"
     ]
    }
   ],
   "source": [
    "a=[64, 34, 25, 12, 22, 11, 90]\n",
    "for i in range(len(a)):\n",
    "    for j in range(0,len(a)-1):\n",
    "        if a[j]>a[j+1]:\n",
    "            a[j],a[j+1]=a[j+1],a[j]\n",
    "print(a)"
   ]
  },
  {
   "cell_type": "code",
   "execution_count": 1,
   "id": "e80ec57f-696b-48fa-8734-e283254e9668",
   "metadata": {},
   "outputs": [
    {
     "name": "stdout",
     "output_type": "stream",
     "text": [
      "it's a prime number\n"
     ]
    }
   ],
   "source": [
    "n=12\n",
    "for i in range(1,n//2):\n",
    "    if n%i==0:\n",
    "        continue\n",
    "    else:\n",
    "        print(\"it's a prime number\")"
   ]
  },
  {
   "cell_type": "code",
   "execution_count": 12,
   "id": "1ebd95b6-a90e-47ea-bc9a-c505348bc7fe",
   "metadata": {},
   "outputs": [
    {
     "name": "stdin",
     "output_type": "stream",
     "text": [
      "Enter any integer number: 15\n"
     ]
    },
    {
     "name": "stdout",
     "output_type": "stream",
     "text": [
      "It's a prime number\n"
     ]
    }
   ],
   "source": [
    "n=int(input(\"Enter any integer number:\"))\n",
    "for i in range(2,int(n**0.5)+1):\n",
    "    if n%i==0:\n",
    "        continue\n",
    "    else:\n",
    "        print(\"It's a prime number\")"
   ]
  },
  {
   "cell_type": "code",
   "execution_count": null,
   "id": "a73e94b8-6285-4017-b1d7-dda3eb044933",
   "metadata": {},
   "outputs": [],
   "source": []
  }
 ],
 "metadata": {
  "kernelspec": {
   "display_name": "Python 3 (ipykernel)",
   "language": "python",
   "name": "python3"
  },
  "language_info": {
   "codemirror_mode": {
    "name": "ipython",
    "version": 3
   },
   "file_extension": ".py",
   "mimetype": "text/x-python",
   "name": "python",
   "nbconvert_exporter": "python",
   "pygments_lexer": "ipython3",
   "version": "3.11.7"
  }
 },
 "nbformat": 4,
 "nbformat_minor": 5
}
